{
 "cells": [
  {
   "cell_type": "markdown",
   "metadata": {
    "scrolled": false
   },
   "source": [
    "Introduction to finite frame theory using linear algebra\n",
    "-------------------------------------------------------------------------------\n",
    "\n",
    "Vectors (signals) $x$ are taken from a finite dimensional space such that $x\\in\\mathbb{R}^L$. \n",
    "\n",
    "Norm of the vector:\n",
    "$$\\left\\lVert x \\right\\rVert = \\sqrt{\\sum_{l=1}^{L} \\left|x\\left[l\\right]\\right|^2}$$\n",
    "\n",
    "Scalar product:\n",
    "$$\\left\\langle x, y \\right\\rangle = \\sum_{l=1}^{L} x\\left[l\\right]\\overline{y\\left[l\\right]}$$\n",
    "\n",
    "Norm from inner product:\n",
    "$$\\left\\langle x, x \\right\\rangle = \\left\\lVert x \\right\\rVert^2$$\n",
    "\n",
    "A collection of $N$ vectors $\\left\\{ f_n \\right\\}_{n=1,\\dots,N}, f_n\\in\\mathbb{R}^L$ is a frame for $\\mathbb{R}^L$ if positive scalars $A,B$ exist in the following inequality:\n",
    "\n",
    "$$ A \\left\\lVert x \\right\\rVert^2 \\leq \\sum_{n=1}^{N} \\left| \\left\\langle x, f_n \\right\\rangle \\right|^2 \\leq B \\left\\lVert  x \\right\\rVert^2$$\n",
    "\n",
    "for any $x\\in\\mathbb{R}^L$. The vectors $f_n$ will be collected as columns of a matrix:\n",
    "$$\n",
    "D = \\left[ \\begin{array}{c c c c} \n",
    " |  &  |  &       &  | \\\\ \n",
    "f_1 & f_2 & \\dots & f_N \\\\ \n",
    " |  &  |  &       &  | \n",
    "\\end{array}\\right]\n",
    "$$\n",
    "\n",
    "Properties of frames:\n",
    "\n",
    "- Vectors $\\left\\{ f_n \\right\\}_{n=1,\\dots,N}$ span $\\mathbb{R}^L$ i.e.\n",
    "   any vector $\\mathbb{R}^L$ can be represented as a linear combination of $\\left\\{ f_n \\right\\}_{n=1,\\dots,N}$.\n",
    "- The matrix $D$ has full row rank.\n",
    "\n",
    "- A frame is a basis if $N=L$ and ONB if, in addition, $A=B=1$.\n",
    "\n",
    "- A frame is overcomple if $N>L$. \n",
    "\n",
    "- A frame is tight if $A=B$ and Parseval tight if $A=B=1$.\n",
    "\n",
    "- In the finite dimensional case, a collection of vectors is always a frame for its span."
   ]
  },
  {
   "cell_type": "markdown",
   "metadata": {},
   "source": [
    "Basic vector handling in Matlab/GNU Octave\n",
    "-------------------------------------------------------------------"
   ]
  },
  {
   "cell_type": "code",
   "execution_count": 1,
   "metadata": {},
   "outputs": [
    {
     "name": "stdout",
     "output_type": "stream",
     "text": [
      "u =\n",
      "\n",
      "   4   5   8  -5\n",
      "\n"
     ]
    }
   ],
   "source": [
    "% Defining a row vector of length 4.\n",
    "u = [4 5 8 -5]"
   ]
  },
  {
   "cell_type": "code",
   "execution_count": 2,
   "metadata": {},
   "outputs": [
    {
     "name": "stdout",
     "output_type": "stream",
     "text": [
      "v =\n",
      "\n",
      "   4   5   6   7\n",
      "\n"
     ]
    }
   ],
   "source": [
    "% Another vector\n",
    "v = 4:7"
   ]
  },
  {
   "cell_type": "code",
   "execution_count": 3,
   "metadata": {},
   "outputs": [
    {
     "name": "stdout",
     "output_type": "stream",
     "text": [
      "u =\n",
      "\n",
      "   4\n",
      "   5\n",
      "   8\n",
      "  -5\n",
      "\n",
      "v =\n",
      "\n",
      "   4\n",
      "   5\n",
      "   6\n",
      "   7\n",
      "\n"
     ]
    }
   ],
   "source": [
    "% Make column vectors from both\n",
    "u = u(:)\n",
    "v = v(:)"
   ]
  },
  {
   "cell_type": "code",
   "execution_count": 4,
   "metadata": {},
   "outputs": [
    {
     "name": "stdout",
     "output_type": "stream",
     "text": [
      "ans =  11.402\n",
      "ans =  11.402\n"
     ]
    }
   ],
   "source": [
    "% Computing norm of the vector\n",
    "sqrt(sum(abs(u).^2))\n",
    "norm(u)"
   ]
  },
  {
   "cell_type": "code",
   "execution_count": 5,
   "metadata": {},
   "outputs": [
    {
     "name": "stdout",
     "output_type": "stream",
     "text": [
      "ans =  54\n",
      "ans =  54\n"
     ]
    }
   ],
   "source": [
    "% Inner product of two vectors <v,u>\n",
    "sum(v.*conj(u))\n",
    "% Row vector * column vector\n",
    "u'*v"
   ]
  },
  {
   "cell_type": "code",
   "execution_count": 6,
   "metadata": {},
   "outputs": [
    {
     "name": "stdout",
     "output_type": "stream",
     "text": [
      "ans =  11.402\n"
     ]
    }
   ],
   "source": [
    "% Norm using inner product\n",
    "sqrt(u'*u)"
   ]
  },
  {
   "cell_type": "markdown",
   "metadata": {},
   "source": [
    "Basic operators accociated with frames\n",
    "----------------------------------------------------------\n",
    "$D$ acts as the *synthesis* operator i.e. synthetizes a vector as a linear combination of the columns of $D$.\n",
    "The adjoint, $D'$ acts as the *analysis* operator i.e. computes inner products of avector with all frame vectors."
   ]
  },
  {
   "cell_type": "code",
   "execution_count": 7,
   "metadata": {},
   "outputs": [
    {
     "name": "stdout",
     "output_type": "stream",
     "text": [
      "D =\n",
      "\n",
      "   0.70711   0.70711\n",
      "   0.70711  -0.70711\n",
      "\n",
      "L =  2\n",
      "N =  2\n"
     ]
    }
   ],
   "source": [
    "% Define a simple frame for R^2\n",
    "D = [1 1;1 -1]/sqrt(2)\n",
    "[L, N] = size(D)"
   ]
  },
  {
   "cell_type": "code",
   "execution_count": 8,
   "metadata": {},
   "outputs": [
    {
     "name": "stdout",
     "output_type": "stream",
     "text": [
      "x =\n",
      "\n",
      "   2\n",
      "  -5\n",
      "\n",
      "c =\n",
      "\n",
      "  -2.1213\n",
      "   4.9497\n",
      "\n"
     ]
    }
   ],
   "source": [
    "% Analise some vector x\n",
    "x = [2, -5]'\n",
    "c = D'*x"
   ]
  },
  {
   "cell_type": "code",
   "execution_count": 9,
   "metadata": {},
   "outputs": [
    {
     "name": "stdout",
     "output_type": "stream",
     "text": [
      "ans =\n",
      "\n",
      "   2.0000\n",
      "  -5.0000\n",
      "\n"
     ]
    }
   ],
   "source": [
    "% Synthetise\n",
    "D*D'*x"
   ]
  },
  {
   "cell_type": "markdown",
   "metadata": {},
   "source": [
    "*Frame* operator (L$\\times$L matrix) is a concatenation of analysis and synthesis operators."
   ]
  },
  {
   "cell_type": "code",
   "execution_count": 10,
   "metadata": {},
   "outputs": [
    {
     "name": "stdout",
     "output_type": "stream",
     "text": [
      "ans =\n",
      "\n",
      "   1.00000   0.00000\n",
      "   0.00000   1.00000\n",
      "\n"
     ]
    }
   ],
   "source": [
    "% Frame operator\n",
    "D*D'"
   ]
  },
  {
   "cell_type": "markdown",
   "metadata": {},
   "source": [
    "*Gram* operator (N$\\times$N matrix) contains inner products between pairs of frame vectors\n",
    "$$\n",
    "D'D = \\left[ \\begin{array}{c c c c} \n",
    "\\left\\lVert  f_1 \\right\\rVert^2     &    \\left\\langle f_2,f_1 \\right\\rangle  & \\dots    &  \\left\\langle f_N,f_1 \\right\\rangle \\\\ \n",
    "\\left\\langle f_1,f_2 \\right\\rangle   &    \\left\\lVert  f_2 \\right\\rVert^2    & \\dots & \\left\\langle f_N,f_2 \\right\\rangle  \\\\ \n",
    "\\vdots & \\vdots & \\ddots   & \\vdots \\\\\n",
    "\\left\\langle f_1,f_N \\right\\rangle   &  \\left\\langle f_2,f_N \\right\\rangle  & \\dots    &  \\left\\lVert  f_N \\right\\rVert^2\n",
    "\\end{array}\\right]\n",
    "$$"
   ]
  },
  {
   "cell_type": "code",
   "execution_count": 11,
   "metadata": {},
   "outputs": [
    {
     "name": "stdout",
     "output_type": "stream",
     "text": [
      "ans =\n",
      "\n",
      "   1.00000   0.00000\n",
      "   0.00000   1.00000\n",
      "\n"
     ]
    }
   ],
   "source": [
    "% Gram operator\n",
    "D'*D"
   ]
  },
  {
   "cell_type": "markdown",
   "metadata": {},
   "source": [
    "Optimal frame bounds (tightest possible A and B) can be computed as maximum and minimum eigenvalues of the frame operator:"
   ]
  },
  {
   "cell_type": "code",
   "execution_count": 12,
   "metadata": {},
   "outputs": [
    {
     "name": "stdout",
     "output_type": "stream",
     "text": [
      "A =  1.00000\n",
      "B =  1.00000\n"
     ]
    }
   ],
   "source": [
    "A = min(eig(D*D'))\n",
    "B = max(eig(D*D'))"
   ]
  },
  {
   "cell_type": "markdown",
   "metadata": {},
   "source": [
    "Examples of frames\n",
    "-----------------------------\n",
    "\n",
    "**Orthonormal basis**"
   ]
  },
  {
   "cell_type": "code",
   "execution_count": 13,
   "metadata": {},
   "outputs": [
    {
     "name": "stdout",
     "output_type": "stream",
     "text": [
      "D =\n",
      "\n",
      " Columns 1 through 7:\n",
      "\n",
      "   0.500000   0.490393   0.461940   0.415735   0.353553   0.277785   0.191342\n",
      "   0.500000   0.415735   0.191342  -0.097545  -0.353553  -0.490393  -0.461940\n",
      "   0.500000   0.277785  -0.191342  -0.490393  -0.353553   0.097545   0.461940\n",
      "   0.500000   0.097545  -0.461940  -0.277785   0.353553   0.415735  -0.191342\n",
      "   0.500000  -0.097545  -0.461940   0.277785   0.353553  -0.415735  -0.191342\n",
      "   0.500000  -0.277785  -0.191342   0.490393  -0.353553  -0.097545   0.461940\n",
      "   0.500000  -0.415735   0.191342   0.097545  -0.353553   0.490393  -0.461940\n",
      "   0.500000  -0.490393   0.461940  -0.415735   0.353553  -0.277785   0.191342\n",
      "\n",
      " Column 8:\n",
      "\n",
      "   0.097545\n",
      "  -0.277785\n",
      "   0.415735\n",
      "  -0.490393\n",
      "   0.490393\n",
      "  -0.415735\n",
      "   0.277785\n",
      "  -0.097545\n",
      "\n"
     ]
    }
   ],
   "source": [
    "L = 8;\n",
    "D = sqrt(2/L)*cos(pi/L*[0.5:L-0.5]'*[0:L-1]), D(:,1) = D(:,1) / sqrt(2);"
   ]
  },
  {
   "cell_type": "code",
   "execution_count": 14,
   "metadata": {},
   "outputs": [
    {
     "name": "stdout",
     "output_type": "stream",
     "text": [
      "x =\n",
      "\n",
      "   1\n",
      "   2\n",
      "   3\n",
      "   4\n",
      "   5\n",
      "   6\n",
      "   7\n",
      "   8\n",
      "\n"
     ]
    }
   ],
   "source": [
    "% Signal in R^L\n",
    "x = [1:8]'"
   ]
  },
  {
   "cell_type": "code",
   "execution_count": 15,
   "metadata": {
    "scrolled": true
   },
   "outputs": [
    {
     "name": "stdout",
     "output_type": "stream",
     "text": [
      "ans =\n",
      "\n",
      "   12.72792\n",
      "   -6.44232\n",
      "   -0.00000\n",
      "   -0.67345\n",
      "    0.00000\n",
      "   -0.20090\n",
      "   -0.00000\n",
      "   -0.05070\n",
      "\n"
     ]
    }
   ],
   "source": [
    "% Analysis\n",
    "D'*x\n"
   ]
  },
  {
   "cell_type": "code",
   "execution_count": 16,
   "metadata": {
    "scrolled": true
   },
   "outputs": [
    {
     "name": "stdout",
     "output_type": "stream",
     "text": [
      "ans =\n",
      "\n",
      "   1.00000\n",
      "   2.00000\n",
      "   3.00000\n",
      "   4.00000\n",
      "   5.00000\n",
      "   6.00000\n",
      "   7.00000\n",
      "   8.00000\n",
      "\n"
     ]
    }
   ],
   "source": [
    "% Synthesis\n",
    "D*D'*x"
   ]
  },
  {
   "cell_type": "code",
   "execution_count": 17,
   "metadata": {
    "scrolled": true
   },
   "outputs": [
    {
     "name": "stdout",
     "output_type": "stream",
     "text": [
      "ans =\n",
      "\n",
      "   1.00000   0.00000  -0.00000  -0.00000  -0.00000  -0.00000   0.00000  -0.00000\n",
      "   0.00000   1.00000  -0.00000   0.00000   0.00000  -0.00000  -0.00000   0.00000\n",
      "  -0.00000  -0.00000   1.00000  -0.00000  -0.00000   0.00000   0.00000  -0.00000\n",
      "  -0.00000   0.00000  -0.00000   1.00000   0.00000  -0.00000  -0.00000  -0.00000\n",
      "  -0.00000   0.00000  -0.00000   0.00000   1.00000   0.00000   0.00000   0.00000\n",
      "  -0.00000  -0.00000   0.00000  -0.00000   0.00000   1.00000  -0.00000  -0.00000\n",
      "   0.00000  -0.00000   0.00000  -0.00000   0.00000  -0.00000   1.00000   0.00000\n",
      "  -0.00000   0.00000  -0.00000  -0.00000   0.00000  -0.00000   0.00000   1.00000\n",
      "\n"
     ]
    }
   ],
   "source": [
    "% Frame operator\n",
    "D*D'"
   ]
  },
  {
   "cell_type": "code",
   "execution_count": 18,
   "metadata": {
    "scrolled": true
   },
   "outputs": [
    {
     "name": "stdout",
     "output_type": "stream",
     "text": [
      "ans =\n",
      "\n",
      " Columns 1 through 6:\n",
      "\n",
      "   1.0000e+00   8.3267e-17  -1.1102e-16   8.3267e-17   4.1633e-17  -8.3267e-17\n",
      "   8.3267e-17   1.0000e+00   8.3267e-17  -1.3878e-16   2.7756e-17   5.5511e-17\n",
      "  -1.1102e-16   8.3267e-17   1.0000e+00   1.9429e-16  -2.7756e-16   3.3307e-16\n",
      "   8.3267e-17  -1.3878e-16   1.9429e-16   1.0000e+00   6.1062e-16  -7.0777e-16\n",
      "   4.1633e-17   2.7756e-17  -2.7756e-16   6.1062e-16   1.0000e+00   5.9674e-16\n",
      "  -8.3267e-17   5.5511e-17   3.3307e-16  -7.0777e-16   5.9674e-16   1.0000e+00\n",
      "  -7.6328e-16   9.2981e-16  -8.6042e-16   1.1102e-15  -8.0491e-16   2.4980e-16\n",
      "   1.1935e-15  -1.4017e-15   1.0131e-15  -4.7184e-16  -1.3184e-16   2.3939e-16\n",
      "\n",
      " Columns 7 and 8:\n",
      "\n",
      "  -7.6328e-16   1.1935e-15\n",
      "   9.2981e-16  -1.4017e-15\n",
      "  -8.6042e-16   1.0131e-15\n",
      "   1.1102e-15  -4.7184e-16\n",
      "  -8.0491e-16  -1.3184e-16\n",
      "   2.4980e-16   2.3939e-16\n",
      "   1.0000e+00  -4.1633e-17\n",
      "  -4.1633e-17   1.0000e+00\n",
      "\n"
     ]
    }
   ],
   "source": [
    "% Gram operator\n",
    "D'*D"
   ]
  },
  {
   "cell_type": "code",
   "execution_count": 19,
   "metadata": {},
   "outputs": [
    {
     "name": "stdout",
     "output_type": "stream",
     "text": [
      "A =  1.00000\n",
      "B =  1.0000\n"
     ]
    }
   ],
   "source": [
    "A = min(eig(D*D'))\n",
    "B = max(eig(D*D'))"
   ]
  },
  {
   "cell_type": "markdown",
   "metadata": {},
   "source": [
    "**Riez basis**"
   ]
  },
  {
   "cell_type": "code",
   "execution_count": 20,
   "metadata": {},
   "outputs": [],
   "source": [
    "D(3,3) = 2;"
   ]
  },
  {
   "cell_type": "code",
   "execution_count": 21,
   "metadata": {
    "scrolled": true
   },
   "outputs": [
    {
     "name": "stdout",
     "output_type": "stream",
     "text": [
      "ans =\n",
      "\n",
      "   12.72792\n",
      "   -6.44232\n",
      "    6.57403\n",
      "   -0.67345\n",
      "    0.00000\n",
      "   -0.20090\n",
      "   -0.00000\n",
      "   -0.05070\n",
      "\n"
     ]
    }
   ],
   "source": [
    "% Analysis\n",
    "D'*x\n"
   ]
  },
  {
   "cell_type": "code",
   "execution_count": 22,
   "metadata": {
    "scrolled": true
   },
   "outputs": [
    {
     "name": "stdout",
     "output_type": "stream",
     "text": [
      "ans =\n",
      "\n",
      "    4.03680\n",
      "    3.25789\n",
      "   16.14805\n",
      "    0.96320\n",
      "    1.96320\n",
      "    4.74211\n",
      "    8.25789\n",
      "   11.03680\n",
      "\n"
     ]
    }
   ],
   "source": [
    "% Synthesis\n",
    "D*D'*x"
   ]
  },
  {
   "cell_type": "code",
   "execution_count": 23,
   "metadata": {
    "scrolled": true
   },
   "outputs": [
    {
     "name": "stdout",
     "output_type": "stream",
     "text": [
      "ans =\n",
      "\n",
      "   1.00000   0.00000   1.01227  -0.00000  -0.00000  -0.00000   0.00000  -0.00000\n",
      "   0.00000   1.00000   0.41930   0.00000   0.00000  -0.00000  -0.00000   0.00000\n",
      "   1.01227   0.41930   4.96339  -1.01227  -1.01227  -0.41930   0.41930   1.01227\n",
      "  -0.00000   0.00000  -1.01227   1.00000   0.00000  -0.00000  -0.00000  -0.00000\n",
      "  -0.00000   0.00000  -1.01227   0.00000   1.00000   0.00000   0.00000   0.00000\n",
      "  -0.00000  -0.00000  -0.41930  -0.00000   0.00000   1.00000  -0.00000  -0.00000\n",
      "   0.00000  -0.00000   0.41930  -0.00000   0.00000  -0.00000   1.00000   0.00000\n",
      "  -0.00000   0.00000   1.01227  -0.00000   0.00000  -0.00000   0.00000   1.00000\n",
      "\n"
     ]
    }
   ],
   "source": [
    "% Frame operator\n",
    "D*D'"
   ]
  },
  {
   "cell_type": "code",
   "execution_count": 24,
   "metadata": {
    "scrolled": true
   },
   "outputs": [
    {
     "name": "stdout",
     "output_type": "stream",
     "text": [
      "ans =\n",
      "\n",
      " Columns 1 through 6:\n",
      "\n",
      "   1.0000e+00   8.3267e-17   7.7476e-01   8.3267e-17   4.1633e-17  -8.3267e-17\n",
      "   8.3267e-17   1.0000e+00   6.0872e-01  -1.3878e-16   2.7756e-17   5.5511e-17\n",
      "   7.7476e-01   6.0872e-01   4.9634e+00  -1.0746e+00  -7.7476e-01   2.1375e-01\n",
      "   8.3267e-17  -1.3878e-16  -1.0746e+00   1.0000e+00   6.1062e-16  -7.0777e-16\n",
      "   4.1633e-17   2.7756e-17  -7.7476e-01   6.1062e-16   1.0000e+00   5.9674e-16\n",
      "  -8.3267e-17   5.5511e-17   2.1375e-01  -7.0777e-16   5.9674e-16   1.0000e+00\n",
      "  -7.6328e-16   9.2981e-16   1.0123e+00   1.1102e-15  -8.0491e-16   2.4980e-16\n",
      "   1.1935e-15  -1.4017e-15   9.1102e-01  -4.7184e-16  -1.3184e-16   2.3939e-16\n",
      "\n",
      " Columns 7 and 8:\n",
      "\n",
      "  -7.6328e-16   1.1935e-15\n",
      "   9.2981e-16  -1.4017e-15\n",
      "   1.0123e+00   9.1102e-01\n",
      "   1.1102e-15  -4.7184e-16\n",
      "  -8.0491e-16  -1.3184e-16\n",
      "   2.4980e-16   2.3939e-16\n",
      "   1.0000e+00  -4.1633e-17\n",
      "  -4.1633e-17   1.0000e+00\n",
      "\n"
     ]
    }
   ],
   "source": [
    "% Gram operator\n",
    "D'*D"
   ]
  },
  {
   "cell_type": "code",
   "execution_count": 25,
   "metadata": {},
   "outputs": [
    {
     "name": "stdout",
     "output_type": "stream",
     "text": [
      "A =  0.057095\n",
      "B =  5.9063\n"
     ]
    }
   ],
   "source": [
    "A = min(eig(D*D'))\n",
    "B = max(eig(D*D'))"
   ]
  },
  {
   "cell_type": "code",
   "execution_count": 26,
   "metadata": {},
   "outputs": [
    {
     "name": "stdout",
     "output_type": "stream",
     "text": [
      "ans =\n",
      "\n",
      "   1.00000\n",
      "   2.00000\n",
      "   3.00000\n",
      "   4.00000\n",
      "   5.00000\n",
      "   6.00000\n",
      "   7.00000\n",
      "   8.00000\n",
      "\n"
     ]
    }
   ],
   "source": [
    "% Synthesis using unique biorthogonal/dual basis\n",
    "inv(D)'*D'*x  % equal to inv(D')*D*x"
   ]
  },
  {
   "cell_type": "code",
   "execution_count": 27,
   "metadata": {},
   "outputs": [
    {
     "name": "stdout",
     "output_type": "stream",
     "text": [
      "Dd =\n",
      "\n",
      " Columns 1 through 6:\n",
      "\n",
      "  -0.2627506   0.0061657   0.7954811   1.2705730   0.9698574   0.1077472\n",
      "   0.0982719   0.2151614   0.3294990   0.2565404  -0.0982719  -0.5608246\n",
      "   0.6088349   0.4783585  -0.3294990  -0.8444782  -0.6088349   0.1679772\n",
      "   0.9698574   0.5817721  -0.7954811  -1.1326233  -0.2627506   0.5857727\n",
      "   0.9698574   0.3866818  -0.7954811  -0.5770530  -0.2627506  -0.2456969\n",
      "   0.6088349  -0.0772118  -0.3294990   0.1363071  -0.6088349  -0.0271132\n",
      "   0.0982719  -0.6163082   0.3294990   0.4516307  -0.0982719   0.4199606\n",
      "  -0.2627506  -0.9746196   0.7954811   0.4391033   0.9698574  -0.4478230\n",
      "\n",
      " Columns 7 and 8:\n",
      "\n",
      "  -0.6138982  -0.6271516\n",
      "  -0.7954811  -0.5779644\n",
      "   0.7954811   0.7159140\n",
      "   0.6138982   0.2343042\n",
      "   0.6138982   1.2150894\n",
      "   0.7954811  -0.1155556\n",
      "  -0.7954811  -0.0223941\n",
      "  -0.6138982  -0.8222420\n",
      "\n"
     ]
    }
   ],
   "source": [
    "% Dual basis\n",
    "Dd = inv(D)'"
   ]
  },
  {
   "cell_type": "markdown",
   "metadata": {},
   "source": [
    "**Overcomplete frame**"
   ]
  },
  {
   "cell_type": "code",
   "execution_count": 28,
   "metadata": {},
   "outputs": [
    {
     "name": "stdout",
     "output_type": "stream",
     "text": [
      "D =\n",
      "\n",
      " Columns 1 through 7:\n",
      "\n",
      "   0.353553   0.490393   0.461940   0.415735   0.353553   0.277785   0.191342\n",
      "   0.353553   0.415735   0.191342  -0.097545  -0.353553  -0.490393  -0.461940\n",
      "   0.353553   0.277785   2.000000  -0.490393  -0.353553   0.097545   0.461940\n",
      "   0.353553   0.097545  -0.461940  -0.277785   0.353553   0.415735  -0.191342\n",
      "   0.353553  -0.097545  -0.461940   0.277785   0.353553  -0.415735  -0.191342\n",
      "   0.353553  -0.277785  -0.191342   0.490393  -0.353553  -0.097545   0.461940\n",
      "   0.353553  -0.415735   0.191342   0.097545  -0.353553   0.490393  -0.461940\n",
      "   0.353553  -0.490393   0.461940  -0.415735   0.353553  -0.277785   0.191342\n",
      "\n",
      " Columns 8 and 9:\n",
      "\n",
      "   0.097545   1.000000\n",
      "  -0.277785   2.000000\n",
      "   0.415735   3.000000\n",
      "  -0.490393   4.000000\n",
      "   0.490393   5.000000\n",
      "  -0.415735   6.000000\n",
      "   0.277785   7.000000\n",
      "  -0.097545   8.000000\n",
      "\n",
      "L =  8\n",
      "N =  9\n"
     ]
    }
   ],
   "source": [
    "% Adding a new vector to the basis\n",
    "D = [D,(1:8)']\n",
    "[L, N] = size(D)\n"
   ]
  },
  {
   "cell_type": "code",
   "execution_count": 29,
   "metadata": {},
   "outputs": [
    {
     "name": "stdout",
     "output_type": "stream",
     "text": [
      "A =  0.059231\n",
      "B =  205.22\n"
     ]
    }
   ],
   "source": [
    "A = min(eig(D*D'))\n",
    "B = max(eig(D*D'))"
   ]
  },
  {
   "cell_type": "code",
   "execution_count": 30,
   "metadata": {},
   "outputs": [
    {
     "name": "stdout",
     "output_type": "stream",
     "text": [
      "ans =\n",
      "\n",
      "    12.72792\n",
      "    -6.44232\n",
      "     6.57403\n",
      "    -0.67345\n",
      "     0.00000\n",
      "    -0.20090\n",
      "    -0.00000\n",
      "    -0.05070\n",
      "   204.00000\n",
      "\n"
     ]
    }
   ],
   "source": [
    "% Analysis\n",
    "D'*x"
   ]
  },
  {
   "cell_type": "code",
   "execution_count": 31,
   "metadata": {},
   "outputs": [
    {
     "name": "stdout",
     "output_type": "stream",
     "text": [
      "error: inverse: A must be a square matrix\n"
     ]
    }
   ],
   "source": [
    "% Attempting reconstruction as in the biort. basis case\n",
    "inv(D)'*D'*x"
   ]
  },
  {
   "cell_type": "code",
   "execution_count": 32,
   "metadata": {},
   "outputs": [
    {
     "name": "stdout",
     "output_type": "stream",
     "text": [
      "ans =\n",
      "\n",
      "   1.00000\n",
      "   2.00000\n",
      "   3.00000\n",
      "   4.00000\n",
      "   5.00000\n",
      "   6.00000\n",
      "   7.00000\n",
      "   8.00000\n",
      "\n"
     ]
    }
   ],
   "source": [
    "% Works again with pseoudoinverse\n",
    "pinv(D)'*D'*x"
   ]
  },
  {
   "cell_type": "markdown",
   "metadata": {},
   "source": [
    "If cols of $D$ form a frame, the pseudoinverse has an explicit form involving inversion of the frame operator.\n",
    "The frame operator is invertible if $D$ forms a frame for the full space $\\mathbb{R}^L$"
   ]
  },
  {
   "cell_type": "code",
   "execution_count": 33,
   "metadata": {},
   "outputs": [
    {
     "name": "stdout",
     "output_type": "stream",
     "text": [
      "ans =\n",
      "\n",
      "   1.0000\n",
      "   2.0000\n",
      "   3.0000\n",
      "   4.0000\n",
      "   5.0000\n",
      "   6.0000\n",
      "   7.0000\n",
      "   8.0000\n",
      "\n"
     ]
    }
   ],
   "source": [
    "%  Explicit formula for frames\n",
    "inv(D*D')*D*D'*x"
   ]
  },
  {
   "cell_type": "code",
   "execution_count": 34,
   "metadata": {},
   "outputs": [
    {
     "name": "stdout",
     "output_type": "stream",
     "text": [
      "Dd =\n",
      "\n",
      " Columns 1 through 6:\n",
      "\n",
      "  -0.00015103  -0.12675079   0.79548107   1.25667840   0.96985735   0.10360225\n",
      "   0.10858683   0.20994050   0.32949905   0.25599462  -0.09827193  -0.56098745\n",
      "   0.28808283   0.64070926  -0.32949905  -0.82750669  -0.60883485   0.17304004\n",
      "   0.39682069   0.87181843  -0.79548107  -1.10230298  -0.26275057   0.59481774\n",
      "   0.33473326   0.70815407  -0.79548107  -0.54344760  -0.26275057  -0.23567186\n",
      "   0.10182056   0.17941692  -0.32949905   0.16313402  -0.60883485  -0.01911024\n",
      "  -0.20185030  -0.46439929   0.32949905   0.46751067  -0.09827193   0.42469790\n",
      "  -0.43476300  -0.88755431   0.79548107   0.44820480   0.96985735  -0.44510788\n",
      "\n",
      " Columns 7 through 9:\n",
      "\n",
      "  -0.61389822  -0.62819771  -0.02063177\n",
      "  -0.79548107  -0.57800545  -0.00081041\n",
      "   0.79548107   0.71719178   0.02520066\n",
      "   0.61389822   0.23658688   0.04502201\n",
      "   0.61389822   1.21761948   0.04990006\n",
      "   0.79548107  -0.11353585   0.03983480\n",
      "  -0.79548107  -0.02119857   0.02357983\n",
      "  -0.61389822  -0.82155674   0.01351457\n",
      "\n"
     ]
    }
   ],
   "source": [
    "% Canonical dual frame\n",
    "Dd = inv(D*D')*D"
   ]
  },
  {
   "cell_type": "code",
   "execution_count": 35,
   "metadata": {},
   "outputs": [
    {
     "name": "stdout",
     "output_type": "stream",
     "text": [
      "ans =\n",
      "\n",
      "   1.0000\n",
      "   2.0000\n",
      "   3.0000\n",
      "   4.0000\n",
      "   5.0000\n",
      "   6.0000\n",
      "   7.0000\n",
      "   8.0000\n",
      "\n"
     ]
    }
   ],
   "source": [
    "% Dd*D' is identity\n",
    "Dd*D'*x"
   ]
  },
  {
   "cell_type": "code",
   "execution_count": 36,
   "metadata": {},
   "outputs": [
    {
     "name": "stdout",
     "output_type": "stream",
     "text": [
      "ans =\n",
      "\n",
      "   1.00000\n",
      "   2.00000\n",
      "   3.00000\n",
      "   4.00000\n",
      "   5.00000\n",
      "   6.00000\n",
      "   7.00000\n",
      "   8.00000\n",
      "\n"
     ]
    }
   ],
   "source": [
    "% The roles of the original and the can. dual frames can be reversed\n",
    "% D*Dd' is identity.\n",
    "D*Dd'*x"
   ]
  },
  {
   "cell_type": "markdown",
   "metadata": {},
   "source": [
    "Overcomplete frames come with the null space in the coefficient (analysis) domain\n",
    "-------------------------------------------------------------------------------------------------------------------------\n",
    "\n",
    "coefficient vectors which are not obtainable by the analysis operator form a null space.\n",
    "They are mapped to the zero vector by the synthesis with the canonical dual frame"
   ]
  },
  {
   "cell_type": "code",
   "execution_count": 37,
   "metadata": {},
   "outputs": [
    {
     "name": "stdout",
     "output_type": "stream",
     "text": [
      "n =\n",
      "\n",
      "  -1.9649e+01\n",
      "   9.9455e+00\n",
      "  -5.7224e-13\n",
      "   1.0397e+00\n",
      "  -4.6925e-13\n",
      "   3.1015e-01\n",
      "   3.2327e-13\n",
      "   7.8273e-02\n",
      "   1.5438e+00\n",
      "\n"
     ]
    }
   ],
   "source": [
    "% Generating non-zero coefficient vector in the null space (re-run for a different example)\n",
    "n = (eye(N) - Dd'*D)*rand(N,1)*100"
   ]
  },
  {
   "cell_type": "code",
   "execution_count": 38,
   "metadata": {},
   "outputs": [
    {
     "name": "stdout",
     "output_type": "stream",
     "text": [
      "ans =\n",
      "\n",
      "  -1.3161e-12\n",
      "  -6.7733e-13\n",
      "   1.3284e-12\n",
      "   1.4169e-12\n",
      "   1.4975e-12\n",
      "   7.7430e-13\n",
      "  -4.9447e-13\n",
      "  -1.9648e-12\n",
      "\n"
     ]
    }
   ],
   "source": [
    "% ... becomes zero (up to numerical precision) after synthesis with the canonical dual frame\n",
    "Dd*n"
   ]
  },
  {
   "cell_type": "code",
   "execution_count": 39,
   "metadata": {},
   "outputs": [
    {
     "name": "stdout",
     "output_type": "stream",
     "text": [
      "ans =\n",
      "\n",
      "   1.00000\n",
      "   2.00000\n",
      "   3.00000\n",
      "   4.00000\n",
      "   5.00000\n",
      "   6.00000\n",
      "   7.00000\n",
      "   8.00000\n",
      "\n"
     ]
    }
   ],
   "source": [
    "% Any vector from the null space can be added to a proper coefficient vector without \n",
    "% altering the perfect reconstruction property.\n",
    "Dd*(D'*x + n)\n"
   ]
  },
  {
   "cell_type": "markdown",
   "metadata": {},
   "source": [
    "**The canonical dual frame is unique, but it is only one of infinitelly many possible dual frames.**"
   ]
  },
  {
   "cell_type": "code",
   "execution_count": 40,
   "metadata": {},
   "outputs": [
    {
     "name": "stdout",
     "output_type": "stream",
     "text": [
      "Dd2 =\n",
      "\n",
      " Columns 1 through 6:\n",
      "\n",
      "   14.646566   -7.540285    0.795481    0.481697    0.969857   -0.127588\n",
      "   28.541078  -14.181356    0.329499   -1.248414   -0.098272   -1.009778\n",
      "  -20.624354   11.225680   -0.329499    0.279004   -0.608835    0.503131\n",
      "   33.259048  -15.761618   -0.795481   -2.841096   -0.262751    0.076106\n",
      "    6.364185   -2.343693   -0.795481   -0.862476   -0.262751   -0.330843\n",
      "   25.794472  -12.825091   -0.329499   -1.196305   -0.608835   -0.424654\n",
      "   -8.475091    3.723157    0.329499    0.905261   -0.098272    0.555286\n",
      "   13.218489   -7.798239    0.795481   -0.274211    0.969857   -0.660617\n",
      "\n",
      " Columns 7 through 9:\n",
      "\n",
      "   -0.613898   -0.686544   -1.171387\n",
      "   -0.795481   -0.691268   -2.234678\n",
      "    0.795481    0.800498    1.668237\n",
      "    0.613898    0.105679   -2.536878\n",
      "    0.613898    1.193601   -0.423818\n",
      "    0.795481   -0.215884   -1.978771\n",
      "   -0.795481    0.011758    0.673587\n",
      "   -0.613898   -0.875945   -1.059186\n",
      "\n"
     ]
    }
   ],
   "source": [
    "% Generating some other dual frame (can be re-run for a different one)\n",
    "Dd2 = Dd + 100*rand(L,N)*(eye(N) - Dd'*D)"
   ]
  },
  {
   "cell_type": "code",
   "execution_count": 41,
   "metadata": {},
   "outputs": [
    {
     "name": "stdout",
     "output_type": "stream",
     "text": [
      "ans =\n",
      "\n",
      "   1.0000\n",
      "   2.0000\n",
      "   3.0000\n",
      "   4.0000\n",
      "   5.0000\n",
      "   6.0000\n",
      "   7.0000\n",
      "   8.0000\n",
      "\n"
     ]
    }
   ],
   "source": [
    "Dd2*D'*x"
   ]
  },
  {
   "cell_type": "markdown",
   "metadata": {},
   "source": [
    "Exercise 1:\n",
    "----\n",
    "\n",
    "What can we say about the following vectors (columns of the matrix):"
   ]
  },
  {
   "cell_type": "code",
   "execution_count": 42,
   "metadata": {},
   "outputs": [
    {
     "name": "stdout",
     "output_type": "stream",
     "text": [
      "D =\n",
      "\n",
      "   0.00000   1.73205  -1.73205\n",
      "   2.00000  -1.00000  -1.00000\n",
      "\n"
     ]
    }
   ],
   "source": [
    "D = [0 sqrt(3) -sqrt(3); 2 -1 -1]"
   ]
  },
  {
   "cell_type": "markdown",
   "metadata": {},
   "source": [
    "- Is it a frame for $\\mathbb{R}^2$?\n",
    "  - Is it a basis?\n",
    "  - Is it overcomplete?\n",
    "  - Is it tight?\n",
    "    - Is it Parseval tight?\n",
    "  - How does the canonical dual frame look like?\n",
    "- Are the vectors orthogonal?\n",
    "- Is there a nontrivial null space?\n",
    "- What is so special about tight frames? (Hint: Look at the frame operator).\n"
   ]
  },
  {
   "cell_type": "markdown",
   "metadata": {},
   "source": [
    "Exercise 2:\n",
    "---\n",
    "\n",
    "Answer the same questions (now in $\\mathbb{R}^3$)."
   ]
  },
  {
   "cell_type": "code",
   "execution_count": 43,
   "metadata": {},
   "outputs": [
    {
     "name": "stdout",
     "output_type": "stream",
     "text": [
      "D =\n",
      "\n",
      "   0.00000   2.44949  -2.44949\n",
      "   2.00000  -1.00000  -1.00000\n",
      "   2.00000  -1.00000  -1.00000\n",
      "\n"
     ]
    }
   ],
   "source": [
    "D = [sqrt(2) 0 0; 0 1 -1; 0 1 1]*[D;[0 0 0]]"
   ]
  },
  {
   "cell_type": "code",
   "execution_count": null,
   "metadata": {},
   "outputs": [],
   "source": []
  }
 ],
 "metadata": {
  "celltoolbar": "Raw Cell Format",
  "kernelspec": {
   "display_name": "Octave",
   "language": "octave",
   "name": "octave"
  },
  "language_info": {
   "file_extension": ".m",
   "help_links": [
    {
     "text": "GNU Octave",
     "url": "https://www.gnu.org/software/octave/support.html"
    },
    {
     "text": "Octave Kernel",
     "url": "https://github.com/Calysto/octave_kernel"
    },
    {
     "text": "MetaKernel Magics",
     "url": "https://github.com/calysto/metakernel/blob/master/metakernel/magics/README.md"
    }
   ],
   "mimetype": "text/x-octave",
   "name": "octave",
   "version": "4.4.0"
  }
 },
 "nbformat": 4,
 "nbformat_minor": 2
}
